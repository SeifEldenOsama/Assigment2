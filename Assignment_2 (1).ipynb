{
 "cells": [
  {
   "cell_type": "markdown",
   "metadata": {
    "id": "zICmOr3xM7P3"
   },
   "source": [
    "**Write a Python function to perform linear search on a list**"
   ]
  },
  {
   "cell_type": "code",
   "execution_count": 3,
   "metadata": {
    "id": "OHAie4ZsNkge"
   },
   "outputs": [
    {
     "name": "stdout",
     "output_type": "stream",
     "text": [
      "found!\n"
     ]
    }
   ],
   "source": [
    "def linear_search(List,item):\n",
    "    found=False\n",
    "    for i in List:\n",
    "        if i==item:\n",
    "            found=True\n",
    "            break\n",
    "    return found\n",
    "item=10\n",
    "List=[1,2,3,4,10,5,7]\n",
    "print(\"found!\" if linear_search(List,item) else \"not found!\")  "
   ]
  },
  {
   "cell_type": "markdown",
   "metadata": {
    "id": "9gt2NeSINAee"
   },
   "source": [
    "**Modify the function to return the index of all occurrences of the search element.\n",
    "t**"
   ]
  },
  {
   "cell_type": "code",
   "execution_count": 7,
   "metadata": {
    "id": "Drr34lZZNlcd"
   },
   "outputs": [
    {
     "name": "stdout",
     "output_type": "stream",
     "text": [
      "index  1\n",
      "index  2\n",
      "index  3\n",
      "index  7\n"
     ]
    }
   ],
   "source": [
    "def all_index(List,item):   \n",
    "    for i in range(len(List)):\n",
    "        if List[i]==item:\n",
    "            print(\"index \",i)\n",
    "            \n",
    "item=2\n",
    "List=[1,2,2,2,3,3,4,2]\n",
    "all_index(List,item)"
   ]
  },
  {
   "cell_type": "markdown",
   "metadata": {
    "id": "15VW81ZmNnYt"
   },
   "source": [
    "**Create a program to find the maximum element in a list using linear search.**"
   ]
  },
  {
   "cell_type": "code",
   "execution_count": 9,
   "metadata": {
    "id": "Cv04SYmZNvfU"
   },
   "outputs": [
    {
     "name": "stdout",
     "output_type": "stream",
     "text": [
      "101\n"
     ]
    }
   ],
   "source": [
    "List=[10,4,55,88,101,30]\n",
    "max=List[0]\n",
    "for i in List:\n",
    "    if i>max:\n",
    "        max=i\n",
    "print(max)        "
   ]
  },
  {
   "cell_type": "markdown",
   "metadata": {
    "id": "CC1d9lWHNy4G"
   },
   "source": [
    "**Implement binary search iteratively in Python**"
   ]
  },
  {
   "cell_type": "code",
   "execution_count": 24,
   "metadata": {
    "id": "qNlprj2ON2sN"
   },
   "outputs": [
    {
     "name": "stdout",
     "output_type": "stream",
     "text": [
      "found!\n"
     ]
    }
   ],
   "source": [
    "List=[1,2,3,4,5,6,7,8,9,10]\n",
    "item=5\n",
    "Start=0\n",
    "End=len(List)\n",
    "Middle=(Start+End)//2\n",
    "while Start<End and Middle!=item:\n",
    "    if List[Middle] > item:\n",
    "        End=Middle-1\n",
    "    else :\n",
    "        Start=Middle+1\n",
    "    Middle=(Start+End)//2    \n",
    "print(\"found!\" if Middle == item else \"not found!\")        "
   ]
  },
  {
   "cell_type": "markdown",
   "metadata": {
    "id": "zdFByPpjN9VF"
   },
   "source": [
    "**Implement binary search recursively in Python**"
   ]
  },
  {
   "cell_type": "code",
   "execution_count": 46,
   "metadata": {
    "id": "-ukDAxmLOAh9"
   },
   "outputs": [
    {
     "name": "stdout",
     "output_type": "stream",
     "text": [
      "found!\n"
     ]
    }
   ],
   "source": [
    "def binary_search(List,item,start=0,end=len(List)):\n",
    "    middle=(start+end)//2\n",
    "    if start>=end:\n",
    "        return False\n",
    "    if List[middle]==item and start<end:\n",
    "        return True\n",
    "    if List[middle]>item:\n",
    "        return binary_search(List,item,start,middle-1)\n",
    "    if List[middle]<item:\n",
    "        return binary_search(List,item,middle+1,end)\n",
    "List=[1,2,3,4,5,6,7,8,9]\n",
    "item=9\n",
    "print(\"found!\" if binary_search(List,item) else \"not found!\")"
   ]
  },
  {
   "cell_type": "markdown",
   "metadata": {
    "id": "XfCbhOl7ODkc"
   },
   "source": [
    "**Write a program to check if a list is sorted in ascending order using binary search**"
   ]
  },
  {
   "cell_type": "code",
   "execution_count": 9,
   "metadata": {
    "id": "f4I1O1IhOGEd"
   },
   "outputs": [
    {
     "name": "stdout",
     "output_type": "stream",
     "text": [
      "True\n",
      "False\n"
     ]
    }
   ],
   "source": [
    "def is_sorted_ascending(lst):\n",
    "    left = 0\n",
    "    right = len(lst) - 1\n",
    "    \n",
    "    while left < right:\n",
    "        mid = (left + right) // 2\n",
    "        \n",
    "        if lst[mid] < lst[left]:\n",
    "            right = mid\n",
    "        elif lst[mid] > lst[right]:\n",
    "            left = mid + 1\n",
    "        else:\n",
    "            return True\n",
    "    \n",
    "    return False\n",
    "\n",
    "List1 = [1, 2, 3, 4, 5]\n",
    "List2 = [5, 2, 3, 1, 4]\n",
    "\n",
    "print(is_sorted_ascending(List1))  \n",
    "print(is_sorted_ascending(List2))"
   ]
  },
  {
   "cell_type": "markdown",
   "metadata": {
    "id": "5AxShFTYOI90"
   },
   "source": [
    "**Write a Python program to calculate the factorial of a number using a for loop**"
   ]
  },
  {
   "cell_type": "code",
   "execution_count": 1,
   "metadata": {
    "id": "klPJU-ktOL99"
   },
   "outputs": [
    {
     "name": "stdout",
     "output_type": "stream",
     "text": [
      "enter a number!5\n",
      "120\n"
     ]
    }
   ],
   "source": [
    "number=int(input(\"enter a number!\"))\n",
    "res=1\n",
    "for i in range(number,0,-1):\n",
    "    res*=i\n",
    "print(res)    "
   ]
  },
  {
   "cell_type": "markdown",
   "metadata": {
    "id": "zSD3eH32OOzk"
   },
   "source": [
    "**Create a program to generate the Fibonacci sequence up to a certain number of terms using a for loop**"
   ]
  },
  {
   "cell_type": "code",
   "execution_count": 43,
   "metadata": {
    "id": "dz4mWwn-OSG0"
   },
   "outputs": [
    {
     "name": "stdout",
     "output_type": "stream",
     "text": [
      "enter a number!9\n",
      "0 , 1 , 1 ,2 ,3 ,5 ,8 ,13 ,21\n"
     ]
    }
   ],
   "source": [
    "number=int(input(\"enter a number!\"))\n",
    "first=0\n",
    "second=1\n",
    "next_term=first+second\n",
    "print(first,\",\",second,\",\",next_term,\",\",end=\"\")\n",
    "for i in range(number-3):\n",
    "    first=second\n",
    "    second=next_term\n",
    "    next_term=first+second\n",
    "    if i!=number-4:\n",
    "        print(next_term,\",\",end=\"\")\n",
    "    else:\n",
    "        print(next_term)\n"
   ]
  },
  {
   "cell_type": "markdown",
   "metadata": {
    "id": "e7q768hsOUvs"
   },
   "source": [
    "**Write a function to compute the sum of all elements in a list using a for loop**"
   ]
  },
  {
   "cell_type": "code",
   "execution_count": 2,
   "metadata": {
    "id": "hbJ3q5GDOXc0"
   },
   "outputs": [
    {
     "name": "stdout",
     "output_type": "stream",
     "text": [
      "45\n"
     ]
    }
   ],
   "source": [
    "# first way\n",
    "List=[1,2,3,4,5,6,7,8,9]\n",
    "print(sum(List))"
   ]
  },
  {
   "cell_type": "code",
   "execution_count": 3,
   "metadata": {},
   "outputs": [
    {
     "name": "stdout",
     "output_type": "stream",
     "text": [
      "45\n"
     ]
    }
   ],
   "source": [
    "# seocnd way\n",
    "List=[1,2,3,4,5,6,7,8,9]\n",
    "sum=0\n",
    "for i in List:\n",
    "    sum+=i\n",
    "print(sum)    "
   ]
  },
  {
   "cell_type": "markdown",
   "metadata": {
    "id": "Xc87j9nmObmM"
   },
   "source": [
    "**Write a Python function to check if a number is prime**"
   ]
  },
  {
   "cell_type": "code",
   "execution_count": 25,
   "metadata": {
    "id": "VmxNLFacOfFk"
   },
   "outputs": [
    {
     "name": "stdout",
     "output_type": "stream",
     "text": [
      "enter a number!2\n",
      "prime!\n"
     ]
    }
   ],
   "source": [
    "def is_prime(number):\n",
    "    IsPrime=True\n",
    "    if number>=2:\n",
    "        for i in range(2,number):\n",
    "            if number%i==0:\n",
    "                IsPrime=False\n",
    "                break\n",
    "    else :\n",
    "        IsPrime=False\n",
    "    return IsPrime\n",
    "number=int(input(\"enter a number!\"))\n",
    "if is_prime(number):\n",
    "    print(\"prime!\")\n",
    "else :\n",
    "    print(\"not prime!\")"
   ]
  },
  {
   "cell_type": "markdown",
   "metadata": {
    "id": "fPpLblWXOhDU"
   },
   "source": [
    "**Create a function to reverse a string using recursion**"
   ]
  },
  {
   "cell_type": "code",
   "execution_count": 31,
   "metadata": {
    "id": "ysB4Q620Oj40"
   },
   "outputs": [
    {
     "name": "stdout",
     "output_type": "stream",
     "text": [
      "fies\n"
     ]
    }
   ],
   "source": [
    "def reverse_string(string, new_string=\"\"):\n",
    "    if not string:\n",
    "        return new_string\n",
    "    new_string += string[-1]\n",
    "    return reverse_string(string[:-1], new_string)\n",
    "\n",
    "string = \"seif\"\n",
    "print(reverse_string(string))"
   ]
  },
  {
   "cell_type": "markdown",
   "metadata": {
    "id": "4qLP9xYTOltk"
   },
   "source": [
    "**Write a program that takes a list of integers and returns the largest number using a function**"
   ]
  },
  {
   "cell_type": "code",
   "execution_count": 54,
   "metadata": {
    "id": "9wJQseoeOnis"
   },
   "outputs": [
    {
     "name": "stdout",
     "output_type": "stream",
     "text": [
      "77\n"
     ]
    }
   ],
   "source": [
    "def find_largest(List):\n",
    "    largest_number=List[0]\n",
    "    for i in List:\n",
    "        if largest_number<i:\n",
    "            largest_number=i\n",
    "    return largest_number\n",
    "List=[1,66,22,33,77,33]\n",
    "print(find_largest(List))"
   ]
  },
  {
   "cell_type": "markdown",
   "metadata": {
    "id": "2ds4zQmGOpv0"
   },
   "source": [
    "**Implement selection sort using a function and demonstrate its usage**"
   ]
  },
  {
   "cell_type": "code",
   "execution_count": 64,
   "metadata": {
    "id": "rYSs7DnOasEJ"
   },
   "outputs": [
    {
     "name": "stdout",
     "output_type": "stream",
     "text": [
      "[1, 2, 3, 4, 6, 22, 33, 44]\n"
     ]
    }
   ],
   "source": [
    "def swap(List,number1,number2):\n",
    "    temp=List[number1]\n",
    "    List[number1]=List[number2]\n",
    "    List[number2]=temp\n",
    "def selection_sort(List):\n",
    "    for i in range(len(List)):\n",
    "        Min=i\n",
    "        for j in range(i+1,len(List)):\n",
    "            if List[j]<List[Min]:\n",
    "                Min=j\n",
    "        if Min!=i:\n",
    "            swap(List,Min,i)\n",
    "    return List\n",
    "List=[4,3,2,6,1,44,33,22]\n",
    "print(selection_sort(List))"
   ]
  },
  {
   "cell_type": "markdown",
   "metadata": {
    "id": "9d9LdXoRatvh"
   },
   "source": [
    "**Create a program that uses a function to find the intersection of two lists.**"
   ]
  },
  {
   "cell_type": "code",
   "execution_count": 6,
   "metadata": {
    "id": "r09e5Opsaw8Z"
   },
   "outputs": [
    {
     "name": "stdout",
     "output_type": "stream",
     "text": [
      "[3, 4, 5]\n"
     ]
    }
   ],
   "source": [
    "def find_intersection(List1,List2):\n",
    "    new_list=[]\n",
    "    for i in List1:\n",
    "        for j in List2:\n",
    "            if i == j :\n",
    "                new_list.append(i)\n",
    "    return new_list\n",
    "       \n",
    "List1=[1,2,3,4,5]\n",
    "List2=[3,4,5,6,7]\n",
    "print(find_intersection(List1,List2))"
   ]
  }
 ],
 "metadata": {
  "colab": {
   "provenance": []
  },
  "kernelspec": {
   "display_name": "Python 3 (ipykernel)",
   "language": "python",
   "name": "python3"
  },
  "language_info": {
   "codemirror_mode": {
    "name": "ipython",
    "version": 3
   },
   "file_extension": ".py",
   "mimetype": "text/x-python",
   "name": "python",
   "nbconvert_exporter": "python",
   "pygments_lexer": "ipython3",
   "version": "3.11.5"
  }
 },
 "nbformat": 4,
 "nbformat_minor": 1
}
